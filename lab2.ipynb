{
  "nbformat": 4,
  "nbformat_minor": 0,
  "metadata": {
    "colab": {
      "provenance": [],
      "mount_file_id": "1M-3i5hgU4ivNGevFzdNOU3afJEEWMMwI",
      "authorship_tag": "ABX9TyPAHeGw4pwwyNczVp0wdbQn",
      "include_colab_link": true
    },
    "kernelspec": {
      "name": "python3",
      "display_name": "Python 3"
    },
    "language_info": {
      "name": "python"
    }
  },
  "cells": [
    {
      "cell_type": "markdown",
      "metadata": {
        "id": "view-in-github",
        "colab_type": "text"
      },
      "source": [
        "<a href=\"https://colab.research.google.com/github/DameAeternus/VNP/blob/master/lab2.ipynb\" target=\"_parent\"><img src=\"https://colab.research.google.com/assets/colab-badge.svg\" alt=\"Open In Colab\"/></a>"
      ]
    },
    {
      "cell_type": "code",
      "execution_count": null,
      "metadata": {
        "colab": {
          "base_uri": "https://localhost:8080/",
          "height": 1000
        },
        "id": "GcXGR3Np_Gnc",
        "outputId": "44ca23f9-2aeb-47bb-9dd6-fd1f54a46101"
      },
      "outputs": [
        {
          "output_type": "stream",
          "name": "stdout",
          "text": [
            "      is_genuine  diagonal  height_left  height_right  margin_low  margin_up  \\\n",
            "0           True    171.81       104.86        104.95        4.52       2.89   \n",
            "1           True    171.46       103.36        103.66        3.77       2.99   \n",
            "2           True    172.69       104.48        103.50        4.40       2.94   \n",
            "3           True    171.36       103.91        103.94        3.62       3.01   \n",
            "4           True    171.73       104.28        103.46        4.04       3.48   \n",
            "...          ...       ...          ...           ...         ...        ...   \n",
            "1495       False    171.75       104.38        104.17        4.42       3.09   \n",
            "1496       False    172.19       104.63        104.44        5.27       3.37   \n",
            "1497       False    171.80       104.01        104.12        5.51       3.36   \n",
            "1498       False    172.06       104.28        104.06        5.17       3.46   \n",
            "1499       False    171.47       104.15        103.82        4.63       3.37   \n",
            "\n",
            "      length  \n",
            "0     112.83  \n",
            "1     113.09  \n",
            "2     113.16  \n",
            "3     113.51  \n",
            "4     112.54  \n",
            "...      ...  \n",
            "1495  111.28  \n",
            "1496  110.97  \n",
            "1497  111.95  \n",
            "1498  112.25  \n",
            "1499  112.07  \n",
            "\n",
            "[1500 rows x 7 columns]\n",
            "      is_genuine  diagonal  height_left  height_right  margin_low  margin_up  \\\n",
            "0              1    171.81       104.86        104.95         118       2.89   \n",
            "1              1    171.46       103.36        103.66          43       2.99   \n",
            "2              1    172.69       104.48        103.50         106       2.94   \n",
            "3              1    171.36       103.91        103.94          28       3.01   \n",
            "4              1    171.73       104.28        103.46          70       3.48   \n",
            "...          ...       ...          ...           ...         ...        ...   \n",
            "1495           0    171.75       104.38        104.17         108       3.09   \n",
            "1496           0    172.19       104.63        104.44         191       3.37   \n",
            "1497           0    171.80       104.01        104.12         214       3.36   \n",
            "1498           0    172.06       104.28        104.06         181       3.46   \n",
            "1499           0    171.47       104.15        103.82         129       3.37   \n",
            "\n",
            "      length  \n",
            "0     112.83  \n",
            "1     113.09  \n",
            "2     113.16  \n",
            "3     113.51  \n",
            "4     112.54  \n",
            "...      ...  \n",
            "1495  111.28  \n",
            "1496  110.97  \n",
            "1497  111.95  \n",
            "1498  112.25  \n",
            "1499  112.07  \n",
            "\n",
            "[1500 rows x 7 columns]\n",
            "Test accuracy: 0.97\n"
          ]
        },
        {
          "output_type": "display_data",
          "data": {
            "text/plain": [
              "<Figure size 800x600 with 1 Axes>"
            ],
            "image/png": "[encoded data removed]"
          },
          "metadata": {}
        }
      ],
      "source": [
        "import pandas as pd\n",
        "from sklearn.preprocessing import LabelEncoder\n",
        "import matplotlib.pyplot as plt\n",
        "from sklearn.neighbors import KNeighborsClassifier\n",
        "from sklearn.datasets import make_classification\n",
        "from sklearn.metrics import accuracy_score\n",
        "from sklearn.model_selection import train_test_split\n",
        "from sklearn.metrics import confusion_matrix\n",
        "import seaborn as sns\n",
        "\n",
        "df=pd.read_csv('/content/drive/MyDrive/fake_bills.csv',sep=\";\")\n",
        "print(df)\n",
        "le=LabelEncoder()\n",
        "\n",
        "df['margin_low']= le.fit_transform(df['margin_low'])\n",
        "df['is_genuine']=df['is_genuine'].map({True:1,False:0})\n",
        "df['margin_low'].unique()\n",
        "print(df)\n",
        "\n",
        "\n",
        "X= df.iloc[:,1:]\n",
        "y= df['is_genuine'].values\n",
        "X_train,X_test,y_train,y_test=train_test_split(X,y,test_size=0.2,random_state=42)\n",
        "knn= KNeighborsClassifier(n_neighbors=3)\n",
        "knn.fit(X_train,y_train)\n",
        "\n",
        "y_pred=knn.predict(X_test)\n",
        "\n",
        "accuracy= accuracy_score(y_test,y_pred)\n",
        "print(f'Test accuracy: {accuracy:.2f}')\n",
        "\n",
        "conf_matrix=confusion_matrix(y_test,y_pred)\n",
        "conf_df= pd.DataFrame(conf_matrix,index=sorted(set(y)),columns=sorted(set(y)))\n",
        "\n",
        "plt.figure(figsize=(8,6))\n",
        "sns.heatmap(conf_df,annot=True,fmt='d',cmap='Blues',cbar=False)\n",
        "plt.title(\"Confusion matrix\")\n",
        "plt.xlabel('Predicted')\n",
        "plt.ylabel('Actual')\n",
        "plt.show()"
      ]
    },
    {
      "cell_type": "code",
      "source": [
        "from sklearn.impute import SimpleImputer\n",
        "\n",
        "imputer=SimpleImputer(strategy='mean')\n",
        "df[['margin_low']]=imputer.fit_transform(df[['margin_low']])\n",
        "imputer=imputer.fit(df)\n",
        "df=imputer.transform(df)\n",
        "print(df)"
      ],
      "metadata": {
        "colab": {
          "base_uri": "https://localhost:8080/"
        },
        "id": "NCNEICXqEqPx",
        "outputId": "f6e50ffb-e1e6-4f5a-d1df-73909c9c556a"
      },
      "execution_count": null,
      "outputs": [
        {
          "output_type": "stream",
          "name": "stdout",
          "text": [
            "[[  1.   171.81 104.86 ... 118.     2.89 112.83]\n",
            " [  1.   171.46 103.36 ...  43.     2.99 113.09]\n",
            " [  1.   172.69 104.48 ... 106.     2.94 113.16]\n",
            " ...\n",
            " [  0.   171.8  104.01 ... 214.     3.36 111.95]\n",
            " [  0.   172.06 104.28 ... 181.     3.46 112.25]\n",
            " [  0.   171.47 104.15 ... 129.     3.37 112.07]]\n"
          ]
        }
      ]
    },
    {
      "cell_type": "code",
      "source": [
        "\n",
        "X= df['diagonal','height_left','height_right','margin_low','margin_up'].values\n",
        "y= df['is_genuine'].values\n",
        "X_train,X_test,y_train,y_test=train_test_split(X,y,test_size=0.2,random_state=42)\n",
        "knn= KNeighborsClassifier(n_neighbors=3)\n",
        "knn.fit(X_train,y_train)\n",
        "\n",
        "y_pred=knn.predict(X_test)\n",
        "\n",
        "accuracy= accuracy_score(y_test,y_pred)\n",
        "print(f'Test accuracy: {accuracy:.2f}')"
      ],
      "metadata": {
        "colab": {
          "base_uri": "https://localhost:8080/",
          "height": 245
        },
        "id": "za2iXz8sGhPu",
        "outputId": "4fe238f9-47fe-4d19-c980-61cf01364fda"
      },
      "execution_count": null,
      "outputs": [
        {
          "output_type": "error",
          "ename": "IndexError",
          "evalue": "ignored",
          "traceback": [
            "\u001b[0;31m---------------------------------------------------------------------------\u001b[0m",
            "\u001b[0;31mIndexError\u001b[0m                                Traceback (most recent call last)",
            "\u001b[0;32m<ipython-input-31-d5655aea28b1>\u001b[0m in \u001b[0;36m<cell line: 7>\u001b[0;34m()\u001b[0m\n\u001b[1;32m      5\u001b[0m \u001b[0;32mfrom\u001b[0m \u001b[0msklearn\u001b[0m\u001b[0;34m.\u001b[0m\u001b[0mmodel_selection\u001b[0m \u001b[0;32mimport\u001b[0m \u001b[0mtrain_test_split\u001b[0m\u001b[0;34m\u001b[0m\u001b[0;34m\u001b[0m\u001b[0m\n\u001b[1;32m      6\u001b[0m \u001b[0;34m\u001b[0m\u001b[0m\n\u001b[0;32m----> 7\u001b[0;31m \u001b[0mX\u001b[0m\u001b[0;34m=\u001b[0m \u001b[0mdf\u001b[0m\u001b[0;34m[\u001b[0m\u001b[0;34m'diagonal'\u001b[0m\u001b[0;34m,\u001b[0m\u001b[0;34m'height_left'\u001b[0m\u001b[0;34m,\u001b[0m\u001b[0;34m'height_right'\u001b[0m\u001b[0;34m,\u001b[0m\u001b[0;34m'margin_low'\u001b[0m\u001b[0;34m,\u001b[0m\u001b[0;34m'margin_up'\u001b[0m\u001b[0;34m]\u001b[0m\u001b[0;34m.\u001b[0m\u001b[0mvalues\u001b[0m\u001b[0;34m\u001b[0m\u001b[0;34m\u001b[0m\u001b[0m\n\u001b[0m\u001b[1;32m      8\u001b[0m \u001b[0my\u001b[0m\u001b[0;34m=\u001b[0m \u001b[0mdf\u001b[0m\u001b[0;34m[\u001b[0m\u001b[0;34m'is_genuine'\u001b[0m\u001b[0;34m]\u001b[0m\u001b[0;34m.\u001b[0m\u001b[0mvalues\u001b[0m\u001b[0;34m\u001b[0m\u001b[0;34m\u001b[0m\u001b[0m\n\u001b[1;32m      9\u001b[0m \u001b[0mX_train\u001b[0m\u001b[0;34m,\u001b[0m\u001b[0mX_test\u001b[0m\u001b[0;34m,\u001b[0m\u001b[0my_train\u001b[0m\u001b[0;34m,\u001b[0m\u001b[0my_test\u001b[0m\u001b[0;34m=\u001b[0m\u001b[0mtrain_test_split\u001b[0m\u001b[0;34m(\u001b[0m\u001b[0mX\u001b[0m\u001b[0;34m,\u001b[0m\u001b[0my\u001b[0m\u001b[0;34m,\u001b[0m\u001b[0mtest_size\u001b[0m\u001b[0;34m=\u001b[0m\u001b[0;36m0.2\u001b[0m\u001b[0;34m,\u001b[0m\u001b[0mrandom_state\u001b[0m\u001b[0;34m=\u001b[0m\u001b[0;36m42\u001b[0m\u001b[0;34m)\u001b[0m\u001b[0;34m\u001b[0m\u001b[0;34m\u001b[0m\u001b[0m\n",
            "\u001b[0;31mIndexError\u001b[0m: only integers, slices (`:`), ellipsis (`...`), numpy.newaxis (`None`) and integer or boolean arrays are valid indices"
          ]
        }
      ]
    }
  ]
}